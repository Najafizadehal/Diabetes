{
 "cells": [
  {
   "cell_type": "code",
   "execution_count": null,
   "id": "5a6812a7",
   "metadata": {},
   "outputs": [],
   "source": [
    "img = cv2.imread('image.png')\n",
    "cv2.imshow('Original', img)\n",
    "cv2.waitKey(0)\n",
    "\n",
    "img_gray = cv2.cvtColor(img, cv2.COLOR_BGR2GRAY)\n",
    "\n",
    "sobelx = cv2.Sobel(src=img_gray, ddepth=cv2.CV_64F, dx=1, dy=0, ksize=5)\n",
    "sobely = cv2.Sobel(src=img_gray, ddepth=cv2.CV_64F, dx=0, dy=1, ksize=5)\n",
    "sobelxy = cv2.Sobel(src=img_gray, ddepth=cv2.CV_64F, dx=1, dy=1, ksize=5)\n",
    "\n",
    "cv2.imshow('X', sobelx)\n",
    "cv2.waitKey(0)\n",
    "cv2.imshow('Y', sobely)\n",
    "cv2.waitKey(0)\n",
    "cv2.imshow('XY', sobelxy)\n",
    "cv2.waitKey(0)\n",
    "\n",
    "cv2.destroyAllWindows()"
   ]
  }
 ],
 "metadata": {
  "kernelspec": {
   "display_name": "Python 3 (ipykernel)",
   "language": "python",
   "name": "python3"
  },
  "language_info": {
   "codemirror_mode": {
    "name": "ipython",
    "version": 3
   },
   "file_extension": ".py",
   "mimetype": "text/x-python",
   "name": "python",
   "nbconvert_exporter": "python",
   "pygments_lexer": "ipython3",
   "version": "3.10.9"
  }
 },
 "nbformat": 4,
 "nbformat_minor": 5
}
