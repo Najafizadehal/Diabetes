{
 "cells": [
  {
   "cell_type": "code",
   "execution_count": null,
   "id": "e70e62ff",
   "metadata": {},
   "outputs": [],
   "source": [
    "import base64\n",
    "import matplotlib.image as mpimg\n",
    "import matplotlib.pyplot as plt\n",
    "import sys\n",
    "!{sys.executable} -m pip install opencv-python\n",
    "import cv2"
   ]
  },
  {
   "cell_type": "code",
   "execution_count": null,
   "id": "43114ea4",
   "metadata": {},
   "outputs": [],
   "source": [
    "import urllib.request\n",
    "url = 'https://tractive.com/blog/wp-content/uploads/2016/04/puppy-care-guide-for-new-parents.jpg'\n",
    "filename = 'myfile.txt'\n",
    "urllib.request.urlretrieve(url, filename)"
   ]
  },
  {
   "cell_type": "code",
   "execution_count": null,
   "id": "14874a0a",
   "metadata": {},
   "outputs": [],
   "source": [
    "type(filename)"
   ]
  },
  {
   "cell_type": "code",
   "execution_count": null,
   "id": "e88f2d60",
   "metadata": {},
   "outputs": [],
   "source": [
    "img = mpimg.imread(filename)\n",
    "img_plot = plt.imshow(img)\n"
   ]
  },
  {
   "cell_type": "code",
   "execution_count": null,
   "id": "b900f796",
   "metadata": {},
   "outputs": [],
   "source": [
    "img = cv2.imread(filename)\n",
    "grayscale_image = cv2.cvtColor(img, cv2.COLOR_BGR2GRAY)"
   ]
  },
  {
   "cell_type": "code",
   "execution_count": null,
   "id": "4389d419",
   "metadata": {},
   "outputs": [],
   "source": [
    "cv2.imshow('dogy',grayscale_image)\n",
    "cv2.waitKey(0)"
   ]
  },
  {
   "cell_type": "code",
   "execution_count": null,
   "id": "4caa0c8d",
   "metadata": {},
   "outputs": [],
   "source": [
    "cv2.imwrite('dog_grayscale_image.jpg', grayscale_image)"
   ]
  },
  {
   "cell_type": "code",
   "execution_count": null,
   "id": "5b362b7e",
   "metadata": {},
   "outputs": [],
   "source": [
    "sobelx = cv2.Sobel(src=dogy, ddepth=cv2.CV_64F, dx=1, dy=0, ksize=5)\n",
    "sobely = cv2.Sobel(src=dogy, ddepth=cv2.CV_64F, dx=0, dy=1, ksize=5)\n",
    "sobelxy = cv2.Sobel(src=dogy, ddepth=cv2.CV_64F, dx=1, dy=1, ksize=5)\n",
    "\n",
    "cv2.imshow('X', sobelx)\n",
    "cv2.waitKey(0)\n",
    "cv2.imshow('Y', sobely)\n",
    "cv2.waitKey(0)\n",
    "cv2.imshow('XY', sobelxy)\n",
    "cv2.waitKey(0)\n",
    "\n",
    "cv2.destroyAllWindows()"
   ]
  },
  {
   "cell_type": "code",
   "execution_count": null,
   "id": "b4aa0163",
   "metadata": {},
   "outputs": [],
   "source": []
  }
 ],
 "metadata": {
  "kernelspec": {
   "display_name": "Python 3 (ipykernel)",
   "language": "python",
   "name": "python3"
  },
  "language_info": {
   "codemirror_mode": {
    "name": "ipython",
    "version": 3
   },
   "file_extension": ".py",
   "mimetype": "text/x-python",
   "name": "python",
   "nbconvert_exporter": "python",
   "pygments_lexer": "ipython3",
   "version": "3.10.9"
  }
 },
 "nbformat": 4,
 "nbformat_minor": 5
}
